{
  "nbformat": 4,
  "nbformat_minor": 0,
  "metadata": {
    "colab": {
      "provenance": [],
      "authorship_tag": "ABX9TyN911SeHpuM7DU1t3K3Hm8J",
      "include_colab_link": true
    },
    "kernelspec": {
      "name": "python3",
      "display_name": "Python 3"
    },
    "language_info": {
      "name": "python"
    }
  },
  "cells": [
    {
      "cell_type": "markdown",
      "metadata": {
        "id": "view-in-github",
        "colab_type": "text"
      },
      "source": [
        "<a href=\"https://colab.research.google.com/github/ELucygtz1/Django2/blob/main/EJERCICIOS_PYTHON.ipynb\" target=\"_parent\"><img src=\"https://colab.research.google.com/assets/colab-badge.svg\" alt=\"Open In Colab\"/></a>"
      ]
    },
    {
      "cell_type": "markdown",
      "source": [
        "2. Generalidades"
      ],
      "metadata": {
        "id": "MJ5_De4o8EKq"
      }
    },
    {
      "cell_type": "markdown",
      "source": [
        "1. Recibir un dato y elevarlo al cuadrado"
      ],
      "metadata": {
        "id": "sfQZzScU8hA5"
      }
    },
    {
      "cell_type": "code",
      "execution_count": 2,
      "metadata": {
        "id": "6_WWqwqFOcz9",
        "colab": {
          "base_uri": "https://localhost:8080/"
        },
        "outputId": "8b2bd2dd-e916-4c57-e942-154d8e9fc35a"
      },
      "outputs": [
        {
          "output_type": "execute_result",
          "data": {
            "text/plain": [
              "9"
            ]
          },
          "metadata": {},
          "execution_count": 2
        }
      ],
      "source": [
        "x=3\n",
        "y=x**2\n",
        "y"
      ]
    },
    {
      "cell_type": "markdown",
      "source": [
        "2. Recibe nombre y edad y saluda indicando año de nacimiento"
      ],
      "metadata": {
        "id": "tT4CuLan9DOK"
      }
    },
    {
      "cell_type": "code",
      "source": [
        "nombre=\"Claudia\"\n",
        "a1=1973\n",
        "a2=2024\n",
        "print (\"Hola mi nombre es\", nombre, \"tengo\", a2-a1, \"años\", \"y nací en\", a1)"
      ],
      "metadata": {
        "colab": {
          "base_uri": "https://localhost:8080/"
        },
        "id": "32vQd8dV9OYn",
        "outputId": "8ba996d7-9b25-4a77-989f-c10fccd8590e"
      },
      "execution_count": 9,
      "outputs": [
        {
          "output_type": "stream",
          "name": "stdout",
          "text": [
            "Hola mi nombre es Claudia tengo 51 años y nací en 1973\n"
          ]
        }
      ]
    },
    {
      "cell_type": "markdown",
      "source": [
        "3. Recibir nombre de un producto y precio sin IVA. El programa devuelve el nombre con el precio con IVA."
      ],
      "metadata": {
        "id": "FBTy_gH7AmAi"
      }
    },
    {
      "cell_type": "code",
      "source": [
        "producto= \"Jabón\"\n",
        "c=15.65\n",
        "iva=1.16\n",
        "t=c*iva\n",
        "print(\"El costo del producto\", producto, \"es de\", c, \"antes IVA. El costo total es de\", \"{0:.2f}\".format(t))"
      ],
      "metadata": {
        "colab": {
          "base_uri": "https://localhost:8080/"
        },
        "id": "01u3THROA0bd",
        "outputId": "0a590b67-542b-4faa-81d8-a61a72ae7667"
      },
      "execution_count": 7,
      "outputs": [
        {
          "output_type": "stream",
          "name": "stdout",
          "text": [
            "El costo del producto Jabón es de 15.65 antes IVA. El costo total es de 18.15\n"
          ]
        }
      ]
    },
    {
      "cell_type": "markdown",
      "source": [
        "4. Recibir corriente y resistencia y devolver voltaje si se sabe que V=IR"
      ],
      "metadata": {
        "id": "scY2bLLQDhHG"
      }
    },
    {
      "cell_type": "code",
      "source": [
        "i=int(input(\"Ingresa corriente:\"))\n",
        "r=int(input(\"Ingresa resistencia:\"))\n",
        "v=i*r\n",
        "print(f\"El valor del voltaje cuando la corriente tiene un valor de {i} y la resistencia tiene un valor de {r} es igual {v}\")"
      ],
      "metadata": {
        "colab": {
          "base_uri": "https://localhost:8080/"
        },
        "id": "iHrTPjj-Dqyo",
        "outputId": "f628e6fb-93ca-4df1-e7d5-362c64923cdb"
      },
      "execution_count": 13,
      "outputs": [
        {
          "output_type": "stream",
          "name": "stdout",
          "text": [
            "Ingresa corriente:40\n",
            "Ingresa resistencia:35\n",
            "El valor del voltaje cuando la corriente tiene un valor de 40 y la resistencia tiene un valor de 35 es igual 1400\n"
          ]
        }
      ]
    },
    {
      "cell_type": "markdown",
      "source": [
        "5. Recibe precio, cantidad, costo fijo y costo variable por pieza y el programa devuelve el beneficio."
      ],
      "metadata": {
        "id": "MWZRBHbiJ1AJ"
      }
    },
    {
      "cell_type": "code",
      "source": [
        "p=float(input(\"Ingresa precio:\"))\n",
        "c=float(input(\"Ingresa número de piezas:\"))\n",
        "cf=float(input(\"Ingresa costo fijo:\"))\n",
        "cv=float(input(\"Ingresa costo variable:\"))\n",
        "fju=cf/c\n"
      ],
      "metadata": {
        "id": "xgm7f3xEKJ3Y"
      },
      "execution_count": null,
      "outputs": []
    },
    {
      "cell_type": "markdown",
      "source": [
        "6. Recibir dos números del usuario y con ellos realizar:suma, resta, div, mult, pot, raíz y módulo.\n",
        "\n"
      ],
      "metadata": {
        "id": "tG_-RqAeWIA0"
      }
    },
    {
      "cell_type": "code",
      "source": [
        "a=int(input(\"Ingresa primer número:\"))\n",
        "b=int(input(\"Ingresa segundo número:\"))\n",
        "s=a+b\n",
        "r=a-b\n",
        "d=b/a\n",
        "m=a*b\n",
        "p=b**a\n",
        "rz=a**0.5\n",
        "m=a%b\n",
        "print(f\"suma={s}, resta={r}, división={d}, multiplicación={m}, potencia={p}, raíz={rz}, módulo={m}\")"
      ],
      "metadata": {
        "colab": {
          "base_uri": "https://localhost:8080/"
        },
        "id": "AX4B0D3iWISE",
        "outputId": "5ad90262-9cc1-4eb7-c70f-3c51dc5a9da3"
      },
      "execution_count": 18,
      "outputs": [
        {
          "output_type": "stream",
          "name": "stdout",
          "text": [
            "Ingresa primer número:5\n",
            "Ingresa segundo número:10\n",
            "suma=15, resta=-5, división=2.0, multiplicación=5, potencia=100000, raíz=2.23606797749979, módulo=5\n"
          ]
        }
      ]
    },
    {
      "cell_type": "markdown",
      "source": [
        "7. Recibe el número de horas extras trabajadas por una persona y devuelve el salario semanal si gana 63 pesos por hora y 80 por hora extra."
      ],
      "metadata": {
        "id": "012SMryBja1n"
      }
    },
    {
      "cell_type": "code",
      "source": [
        "nhx=int(input(\"Ingresa numero de horas extras trabajadas:\"))\n",
        "ph=63*8*5\n",
        "he=80\n",
        "het=nhx*he\n",
        "print(f\"El salario del trabajador por 8 horas diarias de luneas a viernes es de ${ph} y el monto total de horas extras es de ${het}, por tanto en esa semana recibiría un total de ${ph+het}\")"
      ],
      "metadata": {
        "colab": {
          "base_uri": "https://localhost:8080/"
        },
        "id": "6BHx4sj2jpMu",
        "outputId": "d6716245-376f-4797-aee6-de1bcaeae289"
      },
      "execution_count": 20,
      "outputs": [
        {
          "output_type": "stream",
          "name": "stdout",
          "text": [
            "Ingresa numero de horas extras trabajadas:5\n",
            "El salario del trabajador por 8 horas diarias de luneas a viernes es de $2520 y el monto total de horas extras es de $400, por tanto en esa semana recibiría un total de $2920\n"
          ]
        }
      ]
    },
    {
      "cell_type": "markdown",
      "source": [
        "8. Una empresa banquetera sabe que debe hacer de salsa el 25% de lo que haría de agua de jamaica. Si de agua elabora 1.5 litros por persona. De carne elabora 350 gr por persona. Recibir el nombre del evento, fecha y número de asistentes y calcular la cantidad de agua, carne y salsa fabricar."
      ],
      "metadata": {
        "id": "jFH_K3nDl6Pa"
      }
    },
    {
      "cell_type": "code",
      "source": [
        "evento=(input(\"Ingresa nombre del evento:\"))\n",
        "date=(input(\"Ingresa fecha del evento:\"))\n",
        "personas=float(input(\"Ingresa el número de asistentes:\"))\n",
        "m2=1.5*1000\n",
        "m3=(m2*25)/100\n",
        "salsa=m3*personas\n",
        "agua = 1.5 * personas\n",
        "carne = 350 * personas\n",
        "print(f\"Evento:{evento} fecha:{date} número de asistentes:{personas} cantidad de agua:{agua} litros, cantidad de salsa {salsa/1000} litros, cantidad de carne {carne/1000} kilos\")"
      ],
      "metadata": {
        "colab": {
          "base_uri": "https://localhost:8080/"
        },
        "id": "TWS-iGscmUWu",
        "outputId": "e177b025-3f23-45a3-e8d3-47dd3ef4fccb"
      },
      "execution_count": 23,
      "outputs": [
        {
          "output_type": "stream",
          "name": "stdout",
          "text": [
            "Ingresa nombre del evento:Bautismo\n",
            "Ingresa fecha del evento:24/04/24\n",
            "Ingresa el número de asistentes:100\n",
            "Evento:Bautismo fecha:24/04/24 número de asistentes:100.0 cantidad de agua:150.0 litros, cantidad de salsa 37.5 litros, cantidad de carne 35.0 kilos\n"
          ]
        }
      ]
    },
    {
      "cell_type": "markdown",
      "source": [
        "9. Recibe el número de calificaciones correctas e incorrectas de un prueba, el programa devuelve la calificación final."
      ],
      "metadata": {
        "id": "CxYTW0LNqnWL"
      }
    },
    {
      "cell_type": "code",
      "source": [],
      "metadata": {
        "id": "aXr7R9crqxJj"
      },
      "execution_count": null,
      "outputs": []
    },
    {
      "cell_type": "markdown",
      "source": [
        "10. Recibir números del usuario y utiizar todos los operadores relacionales para imprimir los tesultados."
      ],
      "metadata": {
        "id": "e3nYcADLrgoI"
      }
    },
    {
      "cell_type": "code",
      "source": [],
      "metadata": {
        "id": "l06LAbK7ro9R"
      },
      "execution_count": null,
      "outputs": []
    },
    {
      "cell_type": "markdown",
      "source": [
        "11. Recibe capital inicial, tasa de interés y periodos y devuelve el capital final para una tasa de interés simple y compuesto."
      ],
      "metadata": {
        "id": "CkHgQ5rOrpaM"
      }
    },
    {
      "cell_type": "code",
      "source": [],
      "metadata": {
        "id": "zW0sSABPrxnL"
      },
      "execution_count": null,
      "outputs": []
    },
    {
      "cell_type": "markdown",
      "source": [
        "12. Solicitar al usuario las coordenadas de dos puntos y devolver la pendiente y ecuación de la recta que pasa por los mismos."
      ],
      "metadata": {
        "id": "ai2tWZTArx6G"
      }
    },
    {
      "cell_type": "code",
      "source": [],
      "metadata": {
        "id": "kD4_7-Ufr79Y"
      },
      "execution_count": null,
      "outputs": []
    }
  ]
}