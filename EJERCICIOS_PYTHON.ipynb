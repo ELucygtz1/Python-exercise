{
  "nbformat": 4,
  "nbformat_minor": 0,
  "metadata": {
    "colab": {
      "provenance": [],
      "authorship_tag": "ABX9TyOXaddDYVohJQoruLtQ3WM6",
      "include_colab_link": true
    },
    "kernelspec": {
      "name": "python3",
      "display_name": "Python 3"
    },
    "language_info": {
      "name": "python"
    }
  },
  "cells": [
    {
      "cell_type": "markdown",
      "metadata": {
        "id": "view-in-github",
        "colab_type": "text"
      },
      "source": [
        "<a href=\"https://colab.research.google.com/github/ELucygtz1/Python-exercise/blob/main/EJERCICIOS_PYTHON.ipynb\" target=\"_parent\"><img src=\"https://colab.research.google.com/assets/colab-badge.svg\" alt=\"Open In Colab\"/></a>"
      ]
    },
    {
      "cell_type": "markdown",
      "source": [
        "Tema 2: Generalidades"
      ],
      "metadata": {
        "id": "MJ5_De4o8EKq"
      }
    },
    {
      "cell_type": "markdown",
      "source": [
        "1. Recibir un dato y elevarlo al cuadrado"
      ],
      "metadata": {
        "id": "sfQZzScU8hA5"
      }
    },
    {
      "cell_type": "code",
      "execution_count": null,
      "metadata": {
        "id": "6_WWqwqFOcz9",
        "colab": {
          "base_uri": "https://localhost:8080/"
        },
        "outputId": "8b2bd2dd-e916-4c57-e942-154d8e9fc35a"
      },
      "outputs": [
        {
          "output_type": "execute_result",
          "data": {
            "text/plain": [
              "9"
            ]
          },
          "metadata": {},
          "execution_count": 2
        }
      ],
      "source": [
        "x=3\n",
        "y=x**2\n",
        "y"
      ]
    },
    {
      "cell_type": "markdown",
      "source": [
        "2. Recibe nombre y edad y saluda indicando año de nacimiento"
      ],
      "metadata": {
        "id": "tT4CuLan9DOK"
      }
    },
    {
      "cell_type": "code",
      "source": [
        "nombre=\"Claudia\"\n",
        "a1=1973\n",
        "a2=2024\n",
        "print (\"Hola mi nombre es\", nombre, \"tengo\", a2-a1, \"años\", \"y nací en\", a1)"
      ],
      "metadata": {
        "colab": {
          "base_uri": "https://localhost:8080/"
        },
        "id": "32vQd8dV9OYn",
        "outputId": "8ba996d7-9b25-4a77-989f-c10fccd8590e"
      },
      "execution_count": null,
      "outputs": [
        {
          "output_type": "stream",
          "name": "stdout",
          "text": [
            "Hola mi nombre es Claudia tengo 51 años y nací en 1973\n"
          ]
        }
      ]
    },
    {
      "cell_type": "markdown",
      "source": [
        "3. Recibir nombre de un producto y precio sin IVA. El programa devuelve el nombre con el precio con IVA."
      ],
      "metadata": {
        "id": "FBTy_gH7AmAi"
      }
    },
    {
      "cell_type": "code",
      "source": [
        "producto= \"Jabón\"\n",
        "c=15.65\n",
        "iva=1.16\n",
        "t=c*iva\n",
        "print(\"El costo del producto\", producto, \"es de\", c, \"antes IVA. El costo total es de\", \"{0:.2f}\".format(t))"
      ],
      "metadata": {
        "colab": {
          "base_uri": "https://localhost:8080/"
        },
        "id": "01u3THROA0bd",
        "outputId": "0a590b67-542b-4faa-81d8-a61a72ae7667"
      },
      "execution_count": null,
      "outputs": [
        {
          "output_type": "stream",
          "name": "stdout",
          "text": [
            "El costo del producto Jabón es de 15.65 antes IVA. El costo total es de 18.15\n"
          ]
        }
      ]
    },
    {
      "cell_type": "markdown",
      "source": [
        "4. Recibir corriente y resistencia y devolver voltaje si se sabe que V=IR"
      ],
      "metadata": {
        "id": "scY2bLLQDhHG"
      }
    },
    {
      "cell_type": "code",
      "source": [
        "i=int(input(\"Ingresa corriente:\"))\n",
        "r=int(input(\"Ingresa resistencia:\"))\n",
        "v=i*r\n",
        "print(f\"El valor del voltaje cuando la corriente tiene un valor de {i} y la resistencia tiene un valor de {r} es igual {v}\")"
      ],
      "metadata": {
        "colab": {
          "base_uri": "https://localhost:8080/"
        },
        "id": "iHrTPjj-Dqyo",
        "outputId": "f628e6fb-93ca-4df1-e7d5-362c64923cdb"
      },
      "execution_count": null,
      "outputs": [
        {
          "output_type": "stream",
          "name": "stdout",
          "text": [
            "Ingresa corriente:40\n",
            "Ingresa resistencia:35\n",
            "El valor del voltaje cuando la corriente tiene un valor de 40 y la resistencia tiene un valor de 35 es igual 1400\n"
          ]
        }
      ]
    },
    {
      "cell_type": "markdown",
      "source": [
        "5. Recibe precio, cantidad, costo fijo y costo variable por pieza y el programa devuelve el beneficio."
      ],
      "metadata": {
        "id": "MWZRBHbiJ1AJ"
      }
    },
    {
      "cell_type": "code",
      "source": [
        "p=float(input(\"Ingresa precio:\"))\n",
        "c=float(input(\"Ingresa número de piezas:\"))\n",
        "cf=float(input(\"Ingresa costo fijo:\"))\n",
        "cv=float(input(\"Ingresa costo variable:\"))\n",
        "fju=cf/c\n"
      ],
      "metadata": {
        "id": "xgm7f3xEKJ3Y"
      },
      "execution_count": null,
      "outputs": []
    },
    {
      "cell_type": "markdown",
      "source": [
        "6. Recibir dos números del usuario y con ellos realizar:suma, resta, div, mult, pot, raíz y módulo.\n",
        "\n"
      ],
      "metadata": {
        "id": "tG_-RqAeWIA0"
      }
    },
    {
      "cell_type": "code",
      "source": [
        "a=int(input(\"Ingresa primer número:\"))\n",
        "b=int(input(\"Ingresa segundo número:\"))\n",
        "s=a+b\n",
        "r=a-b\n",
        "d=b/a\n",
        "m=a*b\n",
        "p=b**a\n",
        "rz=a**0.5\n",
        "m=a%b\n",
        "print(f\"suma={s}, resta={r}, división={d}, multiplicación={m}, potencia={p}, raíz={rz}, módulo={m}\")"
      ],
      "metadata": {
        "colab": {
          "base_uri": "https://localhost:8080/"
        },
        "id": "AX4B0D3iWISE",
        "outputId": "5ad90262-9cc1-4eb7-c70f-3c51dc5a9da3"
      },
      "execution_count": null,
      "outputs": [
        {
          "output_type": "stream",
          "name": "stdout",
          "text": [
            "Ingresa primer número:5\n",
            "Ingresa segundo número:10\n",
            "suma=15, resta=-5, división=2.0, multiplicación=5, potencia=100000, raíz=2.23606797749979, módulo=5\n"
          ]
        }
      ]
    },
    {
      "cell_type": "markdown",
      "source": [
        "7. Recibe el número de horas extras trabajadas por una persona y devuelve el salario semanal si gana 63 pesos por hora y 80 por hora extra."
      ],
      "metadata": {
        "id": "012SMryBja1n"
      }
    },
    {
      "cell_type": "code",
      "source": [
        "nhx=int(input(\"Ingresa numero de horas extras trabajadas:\"))\n",
        "ph=63*8*5\n",
        "he=80\n",
        "het=nhx*he\n",
        "print(f\"El salario del trabajador por 8 horas diarias de luneas a viernes es de ${ph} y el monto total de horas extras es de ${het}, por tanto en esa semana recibiría un total de ${ph+het}\")"
      ],
      "metadata": {
        "colab": {
          "base_uri": "https://localhost:8080/"
        },
        "id": "6BHx4sj2jpMu",
        "outputId": "d6716245-376f-4797-aee6-de1bcaeae289"
      },
      "execution_count": null,
      "outputs": [
        {
          "output_type": "stream",
          "name": "stdout",
          "text": [
            "Ingresa numero de horas extras trabajadas:5\n",
            "El salario del trabajador por 8 horas diarias de luneas a viernes es de $2520 y el monto total de horas extras es de $400, por tanto en esa semana recibiría un total de $2920\n"
          ]
        }
      ]
    },
    {
      "cell_type": "markdown",
      "source": [
        "8. Una empresa banquetera sabe que debe hacer de salsa el 25% de lo que haría de agua de jamaica. Si de agua elabora 1.5 litros por persona. De carne elabora 350 gr por persona. Recibir el nombre del evento, fecha y número de asistentes y calcular la cantidad de agua, carne y salsa fabricar."
      ],
      "metadata": {
        "id": "jFH_K3nDl6Pa"
      }
    },
    {
      "cell_type": "code",
      "source": [
        "evento=(input(\"Ingresa nombre del evento:\"))\n",
        "date=(input(\"Ingresa fecha del evento:\"))\n",
        "personas=float(input(\"Ingresa el número de asistentes:\"))\n",
        "m2=1.5*1000\n",
        "m3=(m2*25)/100\n",
        "salsa=m3*personas\n",
        "agua = 1.5 * personas\n",
        "carne = 350 * personas\n",
        "print(f\"Evento:{evento} fecha:{date} número de asistentes:{personas} cantidad de agua:{agua} litros, cantidad de salsa {salsa/1000} litros, cantidad de carne {carne/1000} kilos\")"
      ],
      "metadata": {
        "colab": {
          "base_uri": "https://localhost:8080/"
        },
        "id": "TWS-iGscmUWu",
        "outputId": "e177b025-3f23-45a3-e8d3-47dd3ef4fccb"
      },
      "execution_count": null,
      "outputs": [
        {
          "output_type": "stream",
          "name": "stdout",
          "text": [
            "Ingresa nombre del evento:Bautismo\n",
            "Ingresa fecha del evento:24/04/24\n",
            "Ingresa el número de asistentes:100\n",
            "Evento:Bautismo fecha:24/04/24 número de asistentes:100.0 cantidad de agua:150.0 litros, cantidad de salsa 37.5 litros, cantidad de carne 35.0 kilos\n"
          ]
        }
      ]
    },
    {
      "cell_type": "markdown",
      "source": [
        "9. Recibe el número de calificaciones correctas e incorrectas de un prueba, el programa devuelve la calificación final."
      ],
      "metadata": {
        "id": "CxYTW0LNqnWL"
      }
    },
    {
      "cell_type": "code",
      "source": [],
      "metadata": {
        "id": "aXr7R9crqxJj"
      },
      "execution_count": null,
      "outputs": []
    },
    {
      "cell_type": "markdown",
      "source": [
        "10. Recibir números del usuario y utiizar todos los operadores relacionales para imprimir los resultados."
      ],
      "metadata": {
        "id": "e3nYcADLrgoI"
      }
    },
    {
      "cell_type": "code",
      "source": [
        "x=input(\"Escribe un número x: \")\n",
        "y=input(\"Escribe un número y: \")\n",
        "print(\"x==y =\", x==y)\n",
        "print(\"x!=y =\", x!=y)\n",
        "print(\"x>y  =\", x>y)\n",
        "print(\"x<y  =\", x<y)\n",
        "print(\"x>=y =\", x>=y)\n",
        "print(\"x<=y =\", x<=y)\n",
        "\n",
        "\n"
      ],
      "metadata": {
        "id": "l06LAbK7ro9R",
        "colab": {
          "base_uri": "https://localhost:8080/"
        },
        "outputId": "4e516dab-f960-459f-d375-9a352d4972ae"
      },
      "execution_count": null,
      "outputs": [
        {
          "output_type": "stream",
          "name": "stdout",
          "text": [
            "Escribe un número x: 5\n",
            "Escribe un número y: 5\n",
            "x==y = True\n",
            "x!=y = False\n",
            "x>y  = False\n",
            "x<y  = False\n",
            "x>=y = True\n",
            "x<=y = True\n"
          ]
        }
      ]
    },
    {
      "cell_type": "markdown",
      "source": [
        "11. Recibe capital inicial, tasa de interés y periodos y devuelve el capital final para una tasa de interés simple y compuesto."
      ],
      "metadata": {
        "id": "CkHgQ5rOrpaM"
      }
    },
    {
      "cell_type": "code",
      "source": [
        "#I= C x i x t donde C = Capital inicial; i = Interés aplicado al capital; t: Tiempo; I = Interés pagado.\n",
        "#Cf= Ci (1+i)ᵗ donde Ci = capital inicial; . Capital final. Intereses. Tiempo.\n",
        "ti=(input(\"¿Qué tipo de interés deseas calcular? simple o compuesto \"))\n",
        "if ti==\"simple\":\n",
        "  c=float(input(\"¿Cuánto deseas invertir?\"))\n",
        "  i=float(input(\"porcentaje de interés deseado mensual %: \"))\n",
        "  t=int(input(\"Número de meses de inversión: \"))\n",
        "  i2=i/100\n",
        "  I = c * i2 * t\n",
        "  print(f\"El interés pagado de invertir un Capital de ${c:,.2f}, con una tasa de interés mensual de {i:,.2f}% en un periodo de {t} meses es de: ${I:,.2f}\")\n",
        "elif ti == \"compuesto\":\n",
        "  c=float(input(\"¿Cuánto deseas invertir?\"))\n",
        "  i=float(input(\"interés deseado anual %:\"))\n",
        "  t=int(input(\"Número de años de inversión: \"))\n",
        "  i2=(i/100)+1\n",
        "  CF=c*i2**t\n",
        "  IT=CF-c\n",
        "  print(f\"El capital final de una inversión de ${c:,.2f}, con una tasa de interés anual de {i:,.2f}% en un periodo de {t} años es de ${CF:,.2f}. Por tanto el interés total de la inversión es de ${IT:,.2f}\")\n",
        "\n",
        "else:\n",
        "  print(\"error\")\n",
        "\n"
      ],
      "metadata": {
        "id": "zW0sSABPrxnL",
        "colab": {
          "base_uri": "https://localhost:8080/"
        },
        "outputId": "34e1a4f9-a9e4-44a9-ebe8-c1c64d2bea7a"
      },
      "execution_count": null,
      "outputs": [
        {
          "output_type": "stream",
          "name": "stdout",
          "text": [
            "¿Qué tipo de interés deseas calcular? simple o compuesto compuesto\n",
            "¿Cuánto deseas invertir?100000\n",
            "interés deseado anual %:10\n",
            "Número de años de inversión: 3\n",
            "El capital final de una inversión de $100,000.00, con una tasa de interés anual de 10.00% en un periodo de 3 años es de $133,100.00. Por tanto el interés total de la inversión es de $33,100.00\n"
          ]
        }
      ]
    },
    {
      "cell_type": "markdown",
      "source": [
        "12. Solicitar al usuario las coordenadas de dos puntos y devolver la pendiente y ecuación de la recta que pasa por los mismos."
      ],
      "metadata": {
        "id": "ai2tWZTArx6G"
      }
    },
    {
      "cell_type": "code",
      "source": [
        "# y = mx + b; m=y2-y1/x2-x1\n",
        "# y-y1 = m (x-x1)\n",
        "\n",
        "x1=int(input(\"Da un valor a x1: \"))\n",
        "x2=int(input(\"Da un valor a x2: \"))\n",
        "y1=int(input(\"Da un valor a y1: \"))\n",
        "y2=int(input(\"Da un valor a y2: \"))\n",
        "m=(y2-y1)/(x2-x1)\n",
        "y=y1\n",
        "x=m*-x1+y\n",
        "print(f\"Cuando los puntos de las coordenadas x de son: ({x1},{x2}), y tiene las coordenadas ({y1} y {y2}), la pendiente es igual a {m}. La ecuación es: y={m:,.02f}x{x:+,.0f}\")\n",
        "\n"
      ],
      "metadata": {
        "id": "kD4_7-Ufr79Y",
        "colab": {
          "base_uri": "https://localhost:8080/"
        },
        "outputId": "c33031a9-8c19-4ae5-eb92-8b09c2b499fe"
      },
      "execution_count": null,
      "outputs": [
        {
          "output_type": "stream",
          "name": "stdout",
          "text": [
            "Da un valor a x1: 9\n",
            "Da un valor a x2: 5\n",
            "Da un valor a y1: 7\n",
            "Da un valor a y2: 3\n",
            "Cuando los puntos de las coordenadas x de son: (9,5), y tiene las coordenadas (7 y 3), la pendiente es igual a 1.0. La ecuación es: y=1.00x-2\n"
          ]
        }
      ]
    },
    {
      "cell_type": "code",
      "source": [
        "resp=input(\"¿te gusta x cosa? si/no\")\n",
        "if resp==\"si\":\n",
        "  print(\"Eres de los que te gusta\")\n",
        "else:\n",
        "  print(\"entonces no te gusta\")\n",
        "\n"
      ],
      "metadata": {
        "colab": {
          "base_uri": "https://localhost:8080/"
        },
        "id": "X9aTYtGyK1gA",
        "outputId": "228ef76a-bb29-434b-9745-6f4bad44e696"
      },
      "execution_count": null,
      "outputs": [
        {
          "output_type": "stream",
          "name": "stdout",
          "text": [
            "¿te gusta x cosa? si/nono\n",
            "entonces no te gusta\n"
          ]
        }
      ]
    },
    {
      "cell_type": "code",
      "source": [
        "num1=int(input(\"dame un número\"))\n",
        "num2=int(input(\"dame un número\"))\n",
        "if num1>num2:\n",
        "  print(f\"el num {num1} es mayor que {num2}\")\n",
        "else:\n",
        "  print(f\"el num{num2} es mayor que {num1}\")\n",
        "print(\"fin del programa\")"
      ],
      "metadata": {
        "colab": {
          "base_uri": "https://localhost:8080/"
        },
        "id": "qwvrZTyCRrMk",
        "outputId": "449b51db-d6c6-4541-da9d-28508d86e3e9"
      },
      "execution_count": null,
      "outputs": [
        {
          "output_type": "stream",
          "name": "stdout",
          "text": [
            "dame un número4\n",
            "dame un número5\n",
            "el num5 es mayor que 4\n",
            "fin del programa\n"
          ]
        }
      ]
    },
    {
      "cell_type": "code",
      "source": [
        "resp=input(\"quierew hacer suma o resta?\")\n",
        "num1=int(input(\"dame un numero\"))\n",
        "num2=int(input(\"dame un numero\"))\n",
        "if resp==\"suma\":\n",
        "  print(f\"la suma de {num1} con {num2} es {num1+num2}\")\n",
        "else:\n",
        "  print(f\"la resta de {num1} con {num2} es {num1-num2}\")"
      ],
      "metadata": {
        "colab": {
          "base_uri": "https://localhost:8080/"
        },
        "id": "rpZv5-bgSt1_",
        "outputId": "2895059d-87b8-4dfc-e82b-5e29b506cfda"
      },
      "execution_count": null,
      "outputs": [
        {
          "output_type": "stream",
          "name": "stdout",
          "text": [
            "quierew hacer suma o resta?suma\n",
            "dame un numero5\n",
            "dame un numero6\n",
            "la suma de 5 con 6 es 11\n"
          ]
        }
      ]
    },
    {
      "cell_type": "code",
      "source": [
        "num1=int(input(\"dame un numero\"))\n",
        "if num1%2==0:\n",
        "  print(f\"El número {num1} es par\")\n",
        "else:\n",
        "  print(\"es impar\")"
      ],
      "metadata": {
        "colab": {
          "base_uri": "https://localhost:8080/"
        },
        "id": "vc5Zw2R2XYFV",
        "outputId": "abb9985a-5bc5-4017-95f5-57fd9c498772"
      },
      "execution_count": null,
      "outputs": [
        {
          "output_type": "stream",
          "name": "stdout",
          "text": [
            "dame un numero40\n",
            "El número 40 es par\n"
          ]
        }
      ]
    },
    {
      "cell_type": "markdown",
      "source": [
        "Tema 3: Condicional if"
      ],
      "metadata": {
        "id": "9R5U4bPR8_cB"
      }
    },
    {
      "cell_type": "markdown",
      "source": [
        "1. Recibir dos números e indicar cual de ellos es mayor"
      ],
      "metadata": {
        "id": "wkxpSo2F9Rwl"
      }
    },
    {
      "cell_type": "code",
      "source": [
        "n1=int(input(\"Escribe un número:\"))\n",
        "n2=int(input(\"Escribe otro número:\"))\n",
        "if n1>n2:\n",
        "  print(f\"El número {n1} es mayor que {n2}\")\n",
        "elif n1<n2:\n",
        "  print(f\"El número {n1} es menor que {n2}\")\n",
        "elif n1==n2:\n",
        "  print(f\"El número {n1} es igual a {n2}\")"
      ],
      "metadata": {
        "colab": {
          "base_uri": "https://localhost:8080/"
        },
        "id": "H63OSkKEYgjJ",
        "outputId": "9899781d-83b5-4460-ca42-9e1daa836bdd"
      },
      "execution_count": null,
      "outputs": [
        {
          "output_type": "stream",
          "name": "stdout",
          "text": [
            "Escribe un número:5\n",
            "Escribe otro número:1000\n",
            "El número 5 es menor que 1000\n"
          ]
        }
      ]
    },
    {
      "cell_type": "markdown",
      "source": [
        "2. Elaborar un programa que calcule áreas y perímetros de cuadrados preguntando al usuario si quiere área o perímetro."
      ],
      "metadata": {
        "id": "kKKSpQ5K9WkK"
      }
    },
    {
      "cell_type": "code",
      "source": [
        "ap=(input(\"¿Qué deseas calcular? area o perimetro: \"))\n",
        "\n",
        "if ap==\"area\":\n",
        "  l=float(input(\"Indica el valor del lado del cuadrado: \"))\n",
        "  a=l*l\n",
        "  print(f\"El área de un cuadrado cuando uno de sus lados mide {l} cm es de {a} cm2.\")\n",
        "elif ap==\"perimetro\":\n",
        "  l=float(input(\"Indica el valor del lado del cuadrado: \"))\n",
        "  p=4*l\n",
        "  print(f\"El perímetro de un cuadrado cuando uno de sus lados mide {l} cm es de {p} cm\")\n",
        "else:\n",
        "  print(f\"Error\")\n",
        "\n"
      ],
      "metadata": {
        "colab": {
          "base_uri": "https://localhost:8080/"
        },
        "id": "6RaP383oYh8e",
        "outputId": "8dd54f67-e251-4721-e1a7-0409bed8da82"
      },
      "execution_count": null,
      "outputs": [
        {
          "output_type": "stream",
          "name": "stdout",
          "text": [
            "¿Qué deseas calcular? area o perimetro: area\n",
            "Indica el valor del lado del cuadrado: 6\n",
            "El área de un cuadrado cuando uno de sus lados mide 6.0 cm es de 36.0 cm2.\n"
          ]
        }
      ]
    },
    {
      "cell_type": "markdown",
      "source": [
        "3. Escribir un programa que pregunte al usuario su edad y muestre por pantalla si es mayor de edad o no."
      ],
      "metadata": {
        "id": "an2ScnLh9fsP"
      }
    },
    {
      "cell_type": "code",
      "source": [
        "u=int(input(\"¿Cuántos años tienes?\"))\n",
        "if u>=18:\n",
        "  print(f\"Tienes {u} años, entonces eres mayor de edad\")\n",
        "elif u<18:\n",
        "  print(f\"Tienes {u} años, entonces eres menor de edad\")\n",
        "\n"
      ],
      "metadata": {
        "colab": {
          "base_uri": "https://localhost:8080/"
        },
        "id": "lIljgecGYifW",
        "outputId": "dfadcfb5-d524-4846-df94-6c7714e41773"
      },
      "execution_count": null,
      "outputs": [
        {
          "output_type": "stream",
          "name": "stdout",
          "text": [
            "¿Cuántos años tienes?17\n",
            "Tienes 17 años, entonces eres menor de edad\n"
          ]
        }
      ]
    },
    {
      "cell_type": "markdown",
      "source": [
        "4. Escribir un programa que pida al usuario dos números y muestre por pantalla su división. Si el divisor es cero el programa debe mostrar un error."
      ],
      "metadata": {
        "id": "fRLv0yBd9la6"
      }
    },
    {
      "cell_type": "code",
      "source": [
        "divd=float(input(\"Escribe un número: \"))\n",
        "divs=float(input(\"Escribe un número: \"))\n",
        "if divs <=0:\n",
        "  print(f\"error\")\n",
        "else:\n",
        "  res=divd/divs\n",
        "  print(f\"La división de {divd} entre {divs} = {res:,.02f}\")\n"
      ],
      "metadata": {
        "colab": {
          "base_uri": "https://localhost:8080/"
        },
        "id": "9PWH3N0zYjbW",
        "outputId": "9215c043-90cc-4f32-9df0-43124921dac1"
      },
      "execution_count": null,
      "outputs": [
        {
          "output_type": "stream",
          "name": "stdout",
          "text": [
            "Escribe un número: 10\n",
            "Escribe un número: 0\n",
            "error\n"
          ]
        }
      ]
    },
    {
      "cell_type": "markdown",
      "source": [
        "5. Programa que recibe el precio de un producto, la cantidad vendida y el egreso total. Determinar si el beneficio de la empresa se encuentra en pérdidas, está en el punto de equilibrio o está generando ganacias."
      ],
      "metadata": {
        "id": "I_BeLSl99s4K"
      }
    },
    {
      "cell_type": "code",
      "source": [
        "#Q=cf/p-cv es el punto de equilibrio\n",
        "p=float(input(\"Escribe el precio del producto: \"))\n",
        "c=int(input(\"Escibe la cantidad vendida: \"))\n",
        "cf=int(input(\"Escribe los costos fijos: \"))\n",
        "cv=int(input(\"Escribe los costos variables: \"))\n",
        "g=cf-cv\n",
        "ventas=p*c\n",
        "resul=ventas-g\n",
        "Q=(cf)/(p-cv)\n",
        "if Q == c:\n",
        "  print(f\"Con un precio de ${p} por {c} piezas del producto y con gastos totales de ${g} hay punto de equilibrio ${resul}\")\n",
        "elif Q<c:\n",
        "  print(f\"Con un precio de ${p} por {c} piezas del producto y con gastos totales de ${g} hay utilidad ${resul}\")\n",
        "else:\n",
        "  print(f\"Con un precio de ${p} por {c} piezas del producto y con gastos totales de ${g} hay pérdida ${resul}\")\n",
        "\n",
        "\n",
        "\n",
        "\n",
        "\n"
      ],
      "metadata": {
        "id": "5_Ole7RM99xh",
        "colab": {
          "base_uri": "https://localhost:8080/"
        },
        "outputId": "243ec163-0645-41a8-b63e-9d6d240b63db"
      },
      "execution_count": null,
      "outputs": [
        {
          "output_type": "stream",
          "name": "stdout",
          "text": [
            "Escribe el precio del producto: 50\n",
            "Escibe la cantidad vendida: 501\n",
            "Escribe los costos fijos: 7500\n",
            "Escribe los costos variables: 35\n",
            "Con un precio de $50.0 por 501 piezas del producto y con gastos totales de $7465 hay utilidad $17585.0\n"
          ]
        }
      ]
    },
    {
      "cell_type": "markdown",
      "source": [
        "6. Elaborar un programa que determine si el alumno se encuentra en situación irregular abajo de 6, regular entre 6 y 9.9 y de excelencia si sacó 10-"
      ],
      "metadata": {
        "id": "6CSem0bR9-M1"
      }
    },
    {
      "cell_type": "code",
      "source": [
        "calif=float(input(\"Escribre la calificación: \"))\n",
        "if 0<= calif <6:\n",
        "  print(f\"Eres irregular\")\n",
        "elif 6<= calif <=9.9:\n",
        "  print(f\"Eres regular\")\n",
        "elif calif == 10:\n",
        "  print(f\"Eres de excelencia\")\n",
        "else:\n",
        "  print(\"Error\")"
      ],
      "metadata": {
        "colab": {
          "base_uri": "https://localhost:8080/"
        },
        "id": "Gu91vJszvj2X",
        "outputId": "e387410f-bc89-413d-a915-e6c45569665c"
      },
      "execution_count": null,
      "outputs": [
        {
          "output_type": "stream",
          "name": "stdout",
          "text": [
            "Escribre la calificación: 9.9\n",
            "Eres regular\n"
          ]
        }
      ]
    },
    {
      "cell_type": "markdown",
      "source": [
        "7. Escribir un programa que pida al usuario un número entero y muestre por pantalla si es par o impar."
      ],
      "metadata": {
        "id": "A0ZehkZs-Idu"
      }
    },
    {
      "cell_type": "code",
      "source": [
        "num=int(input(\"Escribe un número entero: \"))\n",
        "if num%2==0:\n",
        "  print(f\"{num} es par\")\n",
        "else:\n",
        "  print(f\"{num} es impar\")"
      ],
      "metadata": {
        "id": "K6HH3l4Y-O7g",
        "colab": {
          "base_uri": "https://localhost:8080/"
        },
        "outputId": "4b57dbc5-f0d7-4906-8e9d-15a4f0a1f514"
      },
      "execution_count": null,
      "outputs": [
        {
          "output_type": "stream",
          "name": "stdout",
          "text": [
            "Escribe un número entero: 7\n",
            "7 es impar\n"
          ]
        }
      ]
    },
    {
      "cell_type": "markdown",
      "source": [
        "8. Elaborar un programa que reciba el volumen de ventas y el nombre del vendedor. Si vende menos de 1000 pesos es despedido.\n",
        "Si vende entre 1000 y 5000 está a prueba."
      ],
      "metadata": {
        "id": "G7EqXCn3-PS2"
      }
    },
    {
      "cell_type": "code",
      "source": [
        "nom=input(\"Escribe nombre del vendedor: \")\n",
        "v=float(input(\"Escribe volúmen de ventas: \"))\n",
        "if v<1000:\n",
        "  print(f\"{nom} estás despedido\")\n",
        "elif 1000<= v <=5000:\n",
        "  print(f\"{nom} estás a prueba\")\n",
        "else:\n",
        "  print(f\"{nom} tienes bono de productividad\")"
      ],
      "metadata": {
        "colab": {
          "base_uri": "https://localhost:8080/"
        },
        "id": "Cwh3mHwI0lcV",
        "outputId": "34ccbf39-e5b4-40cc-9253-d9405e1083c2"
      },
      "execution_count": null,
      "outputs": [
        {
          "output_type": "stream",
          "name": "stdout",
          "text": [
            "Escribe nombre del vendedor: Lucía\n",
            "Escribe volúmen de ventas: 10000\n",
            "Lucía tienes bono de productividad\n"
          ]
        }
      ]
    },
    {
      "cell_type": "markdown",
      "source": [
        "9. Escribir un programa que pregunte al usuario su edad y muestre por patalla si es mayor de edad o no. Si tiene menos de 10 años indicar que es un niño, entre 18 y 29 jóven, entre 30 y 50 adulto, más de 50 adulto mayor. Si ingresa una edad inválida mandar mensaje de error."
      ],
      "metadata": {
        "id": "WJy4J1o9-aZc"
      }
    },
    {
      "cell_type": "code",
      "source": [
        "edad=int(input(\"Escribe tu edad: \"))\n",
        "if 0<= edad <10:\n",
        "  print(f\"Tienes {edad} años, por tanto eres un niño\")\n",
        "elif 10<= edad <18:\n",
        "  print(f\"Tienes {edad} años, por tanto eres un adolescente\")\n",
        "elif 18<= edad <=29:\n",
        "  print(f\"Tienes {edad} años, por tanto eres un jóven\")\n",
        "elif 30<= edad <=50:\n",
        "  print(f\"Tienes {edad} años, por tanto eres un adulto\")\n",
        "elif edad > 50:\n",
        "  print(f\"Tienes {edad} años, por tanto eres un adulto mayor\")\n",
        "else:\n",
        "  print(\"Error\")"
      ],
      "metadata": {
        "colab": {
          "base_uri": "https://localhost:8080/"
        },
        "id": "UlczFXX_0lyw",
        "outputId": "a0cbbba9-9659-4372-c694-0d6bf39d2952"
      },
      "execution_count": null,
      "outputs": [
        {
          "output_type": "stream",
          "name": "stdout",
          "text": [
            "Escribe tu edad: -1\n",
            "Error\n"
          ]
        }
      ]
    },
    {
      "cell_type": "markdown",
      "source": [
        "10. Tu tarea es escribir una calculadora de impuestos. Debe aceptar un valor de punto flotante: el ingreso. A continuación, debe imprimir el impuesto calculado, redondeado a pesos totales. Hay una función llamada round() que hará el redondeo por ti, la encontrarás en el código de esqueleto del editor. Si el ingreso del ciudadano no era superior a 85,528 pesos, el impuesto era igual al 18% del ingreso menos 556 pesos y 2 centavos (esta fue la llamada exención fiscal). Si el ingreso era superior a esta cantidad, el impuesto era igual a 14,839 pesos y 2 centavos, más el 32% del escedente sobre 85,528 pesos. Si el impuesto calculado es menor que cero, solo significa que no hay impuesto (el impusto es igual a cero), no se realizan devoluciones."
      ],
      "metadata": {
        "id": "FRansdx--xhM"
      }
    },
    {
      "cell_type": "code",
      "source": [
        "ingreso=float(input(\"Escribre el ingreso: \"))\n"
      ],
      "metadata": {
        "id": "yJ79i6xR0mxw"
      },
      "execution_count": null,
      "outputs": []
    },
    {
      "cell_type": "markdown",
      "source": [
        "11. Recibir 3 números y acomodarlos en orden descendente con ifs."
      ],
      "metadata": {
        "id": "LzJqw5KXCt1Q"
      }
    },
    {
      "cell_type": "code",
      "source": [
        "n1=int(input(\"Escribe un número: \"))\n",
        "n2=int(input(\"Escribe un número: \"))\n",
        "n3=int(input(\"Escribe un número: \"))\n",
        "if n2<=n3<=n1:\n",
        "  print(n2, n3, n1)\n",
        "elif n1>n2<n3:\n",
        "  print(n2, n1, n3)\n",
        "elif n1>n2>n3:\n",
        "  print(n3, n2, n1)\n",
        "elif n1<n2<n3:\n",
        "  print(n1,n2,n3)\n",
        "elif n3>n1<n2:\n",
        "  print(n1,n3,n2)\n",
        "else:\n",
        "  print(n3, n1, n2)\n",
        "\n",
        "\n",
        "\n"
      ],
      "metadata": {
        "colab": {
          "base_uri": "https://localhost:8080/"
        },
        "id": "tO3t-v-C0neg",
        "outputId": "eb8913df-eab6-43b2-daf7-cf5f2ce29a04"
      },
      "execution_count": null,
      "outputs": [
        {
          "output_type": "stream",
          "name": "stdout",
          "text": [
            "Escribe un número: 21\n",
            "Escribe un número: 18\n",
            "Escribe un número: 20\n",
            "18 20 21\n"
          ]
        }
      ]
    },
    {
      "cell_type": "markdown",
      "source": [
        "Tema 4: Ciclos"
      ],
      "metadata": {
        "id": "_cI0MsHGCzZc"
      }
    },
    {
      "cell_type": "markdown",
      "source": [
        "Ciclo FOR:\n",
        "1. Elaborar un programa que imprima una lista del 1 al 100."
      ],
      "metadata": {
        "id": "77uCWKrSC7D3"
      }
    },
    {
      "cell_type": "code",
      "source": [
        "for i in range(1,101):\n",
        "  print(i)\n"
      ],
      "metadata": {
        "colab": {
          "base_uri": "https://localhost:8080/"
        },
        "id": "ulihDlpTMQGM",
        "outputId": "47d77079-e17c-4919-a76b-e92d99f6b94d"
      },
      "execution_count": null,
      "outputs": [
        {
          "output_type": "stream",
          "name": "stdout",
          "text": [
            "1\n",
            "2\n",
            "3\n",
            "4\n",
            "5\n",
            "6\n",
            "7\n",
            "8\n",
            "9\n",
            "10\n",
            "11\n",
            "12\n",
            "13\n",
            "14\n",
            "15\n",
            "16\n",
            "17\n",
            "18\n",
            "19\n",
            "20\n",
            "21\n",
            "22\n",
            "23\n",
            "24\n",
            "25\n",
            "26\n",
            "27\n",
            "28\n",
            "29\n",
            "30\n",
            "31\n",
            "32\n",
            "33\n",
            "34\n",
            "35\n",
            "36\n",
            "37\n",
            "38\n",
            "39\n",
            "40\n",
            "41\n",
            "42\n",
            "43\n",
            "44\n",
            "45\n",
            "46\n",
            "47\n",
            "48\n",
            "49\n",
            "50\n",
            "51\n",
            "52\n",
            "53\n",
            "54\n",
            "55\n",
            "56\n",
            "57\n",
            "58\n",
            "59\n",
            "60\n",
            "61\n",
            "62\n",
            "63\n",
            "64\n",
            "65\n",
            "66\n",
            "67\n",
            "68\n",
            "69\n",
            "70\n",
            "71\n",
            "72\n",
            "73\n",
            "74\n",
            "75\n",
            "76\n",
            "77\n",
            "78\n",
            "79\n",
            "80\n",
            "81\n",
            "82\n",
            "83\n",
            "84\n",
            "85\n",
            "86\n",
            "87\n",
            "88\n",
            "89\n",
            "90\n",
            "91\n",
            "92\n",
            "93\n",
            "94\n",
            "95\n",
            "96\n",
            "97\n",
            "98\n",
            "99\n",
            "100\n"
          ]
        }
      ]
    },
    {
      "cell_type": "markdown",
      "source": [
        "2. Elaborar un programa que imprima los números pares del 0 al 100"
      ],
      "metadata": {
        "id": "mPonYK-wDEpy"
      }
    },
    {
      "cell_type": "code",
      "source": [
        "for i in range(0, 101):\n",
        "  if i%2==0:\n",
        "    print(i)\n"
      ],
      "metadata": {
        "colab": {
          "base_uri": "https://localhost:8080/"
        },
        "id": "BHQ8AF0GMRAk",
        "outputId": "c4ee4833-9cff-4865-a056-fa24c551c6c8"
      },
      "execution_count": null,
      "outputs": [
        {
          "output_type": "stream",
          "name": "stdout",
          "text": [
            "0\n",
            "2\n",
            "4\n",
            "6\n",
            "8\n",
            "10\n",
            "12\n",
            "14\n",
            "16\n",
            "18\n",
            "20\n",
            "22\n",
            "24\n",
            "26\n",
            "28\n",
            "30\n",
            "32\n",
            "34\n",
            "36\n",
            "38\n",
            "40\n",
            "42\n",
            "44\n",
            "46\n",
            "48\n",
            "50\n",
            "52\n",
            "54\n",
            "56\n",
            "58\n",
            "60\n",
            "62\n",
            "64\n",
            "66\n",
            "68\n",
            "70\n",
            "72\n",
            "74\n",
            "76\n",
            "78\n",
            "80\n",
            "82\n",
            "84\n",
            "86\n",
            "88\n",
            "90\n",
            "92\n",
            "94\n",
            "96\n",
            "98\n",
            "100\n"
          ]
        }
      ]
    },
    {
      "cell_type": "markdown",
      "source": [
        "3. Elaborar un programa que imprima los numeros nones del 0 al 100"
      ],
      "metadata": {
        "id": "tdZcFII1DL5q"
      }
    },
    {
      "cell_type": "code",
      "source": [
        "for i in range(0, 101):\n",
        "  if i%2==1:\n",
        "    print(i)\n"
      ],
      "metadata": {
        "colab": {
          "base_uri": "https://localhost:8080/"
        },
        "outputId": "ca20cee7-8c78-46ea-96fb-516b3f09d77d",
        "id": "_GiFlSU4OFPP"
      },
      "execution_count": null,
      "outputs": [
        {
          "output_type": "stream",
          "name": "stdout",
          "text": [
            "1\n",
            "3\n",
            "5\n",
            "7\n",
            "9\n",
            "11\n",
            "13\n",
            "15\n",
            "17\n",
            "19\n",
            "21\n",
            "23\n",
            "25\n",
            "27\n",
            "29\n",
            "31\n",
            "33\n",
            "35\n",
            "37\n",
            "39\n",
            "41\n",
            "43\n",
            "45\n",
            "47\n",
            "49\n",
            "51\n",
            "53\n",
            "55\n",
            "57\n",
            "59\n",
            "61\n",
            "63\n",
            "65\n",
            "67\n",
            "69\n",
            "71\n",
            "73\n",
            "75\n",
            "77\n",
            "79\n",
            "81\n",
            "83\n",
            "85\n",
            "87\n",
            "89\n",
            "91\n",
            "93\n",
            "95\n",
            "97\n",
            "99\n"
          ]
        }
      ]
    },
    {
      "cell_type": "markdown",
      "source": [
        "4. Programa que obtiene las primeras 30 potencias de 2"
      ],
      "metadata": {
        "id": "dxFXQ7eFDR0U"
      }
    },
    {
      "cell_type": "code",
      "source": [
        "for i in range(1, 31):\n",
        "  print(i**2)"
      ],
      "metadata": {
        "colab": {
          "base_uri": "https://localhost:8080/"
        },
        "id": "e6XpWiMBMSTl",
        "outputId": "0a56cb3d-26fa-4cd4-cea7-6202f69cc3f4"
      },
      "execution_count": null,
      "outputs": [
        {
          "output_type": "stream",
          "name": "stdout",
          "text": [
            "1\n",
            "4\n",
            "9\n",
            "16\n",
            "25\n",
            "36\n",
            "49\n",
            "64\n",
            "81\n",
            "100\n",
            "121\n",
            "144\n",
            "169\n",
            "196\n",
            "225\n",
            "256\n",
            "289\n",
            "324\n",
            "361\n",
            "400\n",
            "441\n",
            "484\n",
            "529\n",
            "576\n",
            "625\n",
            "676\n",
            "729\n",
            "784\n",
            "841\n",
            "900\n"
          ]
        }
      ]
    },
    {
      "cell_type": "markdown",
      "source": [
        "5. Recibir un dato elevarlo al cuadrado, repetir n veces, donde n lo define el usuario."
      ],
      "metadata": {
        "id": "MVWJDHafDZsp"
      }
    },
    {
      "cell_type": "code",
      "source": [
        "dato=int(input(\"Escribe un número entero: \"))\n",
        "r=int(input(\"Cuántas veces quieres repetir la acción? \"))\n",
        "for i in range(r+1):\n",
        "  print(f\"la potencia de {i} de {dato} es: {dato**i}\")"
      ],
      "metadata": {
        "colab": {
          "base_uri": "https://localhost:8080/"
        },
        "id": "mguOFHlcMTBs",
        "outputId": "3a651bce-8574-4095-8611-6f125fcfcdb8"
      },
      "execution_count": null,
      "outputs": [
        {
          "output_type": "stream",
          "name": "stdout",
          "text": [
            "Escribe un número entero: 2\n",
            "Cuántas veces quieres repetir la acción? 10\n",
            "la potencia de 0 de 2 es: 1\n",
            "la potencia de 1 de 2 es: 2\n",
            "la potencia de 2 de 2 es: 4\n",
            "la potencia de 3 de 2 es: 8\n",
            "la potencia de 4 de 2 es: 16\n",
            "la potencia de 5 de 2 es: 32\n",
            "la potencia de 6 de 2 es: 64\n",
            "la potencia de 7 de 2 es: 128\n",
            "la potencia de 8 de 2 es: 256\n",
            "la potencia de 9 de 2 es: 512\n",
            "la potencia de 10 de 2 es: 1024\n"
          ]
        }
      ]
    },
    {
      "cell_type": "markdown",
      "source": [
        "6. Programa que avalúa la función y=3X+5 desde -10 a 10"
      ],
      "metadata": {
        "id": "gzdXDi1eDiRJ"
      }
    },
    {
      "cell_type": "code",
      "source": [
        "for x in range(-10, 11):\n",
        "  y=3*x+5\n",
        "  print(f\"Si x tiene un valor de {x} la función y es igual a {y}\")"
      ],
      "metadata": {
        "id": "Uq0AmliGMUY2",
        "colab": {
          "base_uri": "https://localhost:8080/"
        },
        "outputId": "57a9fbc1-c947-4edf-a25d-856cea926d5b"
      },
      "execution_count": 3,
      "outputs": [
        {
          "output_type": "stream",
          "name": "stdout",
          "text": [
            "Si x tiene un valor de -10 la función y es igual a -25\n",
            "Si x tiene un valor de -9 la función y es igual a -22\n",
            "Si x tiene un valor de -8 la función y es igual a -19\n",
            "Si x tiene un valor de -7 la función y es igual a -16\n",
            "Si x tiene un valor de -6 la función y es igual a -13\n",
            "Si x tiene un valor de -5 la función y es igual a -10\n",
            "Si x tiene un valor de -4 la función y es igual a -7\n",
            "Si x tiene un valor de -3 la función y es igual a -4\n",
            "Si x tiene un valor de -2 la función y es igual a -1\n",
            "Si x tiene un valor de -1 la función y es igual a 2\n",
            "Si x tiene un valor de 0 la función y es igual a 5\n",
            "Si x tiene un valor de 1 la función y es igual a 8\n",
            "Si x tiene un valor de 2 la función y es igual a 11\n",
            "Si x tiene un valor de 3 la función y es igual a 14\n",
            "Si x tiene un valor de 4 la función y es igual a 17\n",
            "Si x tiene un valor de 5 la función y es igual a 20\n",
            "Si x tiene un valor de 6 la función y es igual a 23\n",
            "Si x tiene un valor de 7 la función y es igual a 26\n",
            "Si x tiene un valor de 8 la función y es igual a 29\n",
            "Si x tiene un valor de 9 la función y es igual a 32\n",
            "Si x tiene un valor de 10 la función y es igual a 35\n"
          ]
        }
      ]
    },
    {
      "cell_type": "markdown",
      "source": [
        "7. Recibir n números, calcular la sumatoria y el promedio"
      ],
      "metadata": {
        "id": "HjDPtjg-DplD"
      }
    },
    {
      "cell_type": "code",
      "source": [
        "n=[]\n",
        "for x in range(1):\n",
        "  n1=int(input(\"Escribe un número: \"))\n",
        "  n2=int(input(\"Escribe un número: \"))\n",
        "  n3=int(input(\"Escribe un número: \"))\n",
        "  n.append([n1,n2,n3])\n",
        "  s=n[x][0]+n[x][1]+n[x][2]\n",
        "  p=s/(3)\n",
        "  print(f\"sumatoria: {s}, promedio:{p}\")\n",
        "\n"
      ],
      "metadata": {
        "id": "n6Ggk5SBMVIr",
        "colab": {
          "base_uri": "https://localhost:8080/"
        },
        "outputId": "c4844835-356c-4c4e-cd6a-4595a68475ba"
      },
      "execution_count": 41,
      "outputs": [
        {
          "output_type": "stream",
          "name": "stdout",
          "text": [
            "Escribe un número: 5\n",
            "Escribe un número: 6\n",
            "Escribe un número: 12\n",
            "sumatoria: 23, promedio:7.666666666666667\n"
          ]
        }
      ]
    },
    {
      "cell_type": "markdown",
      "source": [
        "8. Elaborar programa que imprima las tablas de multiplicar"
      ],
      "metadata": {
        "id": "ScXXrGG8jxbY"
      }
    },
    {
      "cell_type": "code",
      "source": [
        "\"\"\"n1=int(input(\"Escribe un número: \"))\n",
        "for x in range(1,11):\n",
        "  m=n1*x\n",
        "  print(f\"{n1} x {x} = {m}\")\"\"\"\n",
        "\n",
        "n1=0\n",
        "for x in range(0,11):\n",
        "  for y in range(11):\n",
        "    n1=n1+1\n",
        "    print(f\"{n1}.- {x} x {y} = {x*y}\")"
      ],
      "metadata": {
        "id": "DVvq8MSDMV11",
        "colab": {
          "base_uri": "https://localhost:8080/"
        },
        "outputId": "bb17e47c-b3ec-4d33-fe9d-b95aa24df37b"
      },
      "execution_count": 52,
      "outputs": [
        {
          "output_type": "stream",
          "name": "stdout",
          "text": [
            "1.- 0 x 0 = 0\n",
            "2.- 0 x 1 = 0\n",
            "3.- 0 x 2 = 0\n",
            "4.- 0 x 3 = 0\n",
            "5.- 0 x 4 = 0\n",
            "6.- 0 x 5 = 0\n",
            "7.- 0 x 6 = 0\n",
            "8.- 0 x 7 = 0\n",
            "9.- 0 x 8 = 0\n",
            "10.- 0 x 9 = 0\n",
            "11.- 0 x 10 = 0\n",
            "12.- 1 x 0 = 0\n",
            "13.- 1 x 1 = 1\n",
            "14.- 1 x 2 = 2\n",
            "15.- 1 x 3 = 3\n",
            "16.- 1 x 4 = 4\n",
            "17.- 1 x 5 = 5\n",
            "18.- 1 x 6 = 6\n",
            "19.- 1 x 7 = 7\n",
            "20.- 1 x 8 = 8\n",
            "21.- 1 x 9 = 9\n",
            "22.- 1 x 10 = 10\n",
            "23.- 2 x 0 = 0\n",
            "24.- 2 x 1 = 2\n",
            "25.- 2 x 2 = 4\n",
            "26.- 2 x 3 = 6\n",
            "27.- 2 x 4 = 8\n",
            "28.- 2 x 5 = 10\n",
            "29.- 2 x 6 = 12\n",
            "30.- 2 x 7 = 14\n",
            "31.- 2 x 8 = 16\n",
            "32.- 2 x 9 = 18\n",
            "33.- 2 x 10 = 20\n",
            "34.- 3 x 0 = 0\n",
            "35.- 3 x 1 = 3\n",
            "36.- 3 x 2 = 6\n",
            "37.- 3 x 3 = 9\n",
            "38.- 3 x 4 = 12\n",
            "39.- 3 x 5 = 15\n",
            "40.- 3 x 6 = 18\n",
            "41.- 3 x 7 = 21\n",
            "42.- 3 x 8 = 24\n",
            "43.- 3 x 9 = 27\n",
            "44.- 3 x 10 = 30\n",
            "45.- 4 x 0 = 0\n",
            "46.- 4 x 1 = 4\n",
            "47.- 4 x 2 = 8\n",
            "48.- 4 x 3 = 12\n",
            "49.- 4 x 4 = 16\n",
            "50.- 4 x 5 = 20\n",
            "51.- 4 x 6 = 24\n",
            "52.- 4 x 7 = 28\n",
            "53.- 4 x 8 = 32\n",
            "54.- 4 x 9 = 36\n",
            "55.- 4 x 10 = 40\n",
            "56.- 5 x 0 = 0\n",
            "57.- 5 x 1 = 5\n",
            "58.- 5 x 2 = 10\n",
            "59.- 5 x 3 = 15\n",
            "60.- 5 x 4 = 20\n",
            "61.- 5 x 5 = 25\n",
            "62.- 5 x 6 = 30\n",
            "63.- 5 x 7 = 35\n",
            "64.- 5 x 8 = 40\n",
            "65.- 5 x 9 = 45\n",
            "66.- 5 x 10 = 50\n",
            "67.- 6 x 0 = 0\n",
            "68.- 6 x 1 = 6\n",
            "69.- 6 x 2 = 12\n",
            "70.- 6 x 3 = 18\n",
            "71.- 6 x 4 = 24\n",
            "72.- 6 x 5 = 30\n",
            "73.- 6 x 6 = 36\n",
            "74.- 6 x 7 = 42\n",
            "75.- 6 x 8 = 48\n",
            "76.- 6 x 9 = 54\n",
            "77.- 6 x 10 = 60\n",
            "78.- 7 x 0 = 0\n",
            "79.- 7 x 1 = 7\n",
            "80.- 7 x 2 = 14\n",
            "81.- 7 x 3 = 21\n",
            "82.- 7 x 4 = 28\n",
            "83.- 7 x 5 = 35\n",
            "84.- 7 x 6 = 42\n",
            "85.- 7 x 7 = 49\n",
            "86.- 7 x 8 = 56\n",
            "87.- 7 x 9 = 63\n",
            "88.- 7 x 10 = 70\n",
            "89.- 8 x 0 = 0\n",
            "90.- 8 x 1 = 8\n",
            "91.- 8 x 2 = 16\n",
            "92.- 8 x 3 = 24\n",
            "93.- 8 x 4 = 32\n",
            "94.- 8 x 5 = 40\n",
            "95.- 8 x 6 = 48\n",
            "96.- 8 x 7 = 56\n",
            "97.- 8 x 8 = 64\n",
            "98.- 8 x 9 = 72\n",
            "99.- 8 x 10 = 80\n",
            "100.- 9 x 0 = 0\n",
            "101.- 9 x 1 = 9\n",
            "102.- 9 x 2 = 18\n",
            "103.- 9 x 3 = 27\n",
            "104.- 9 x 4 = 36\n",
            "105.- 9 x 5 = 45\n",
            "106.- 9 x 6 = 54\n",
            "107.- 9 x 7 = 63\n",
            "108.- 9 x 8 = 72\n",
            "109.- 9 x 9 = 81\n",
            "110.- 9 x 10 = 90\n",
            "111.- 10 x 0 = 0\n",
            "112.- 10 x 1 = 10\n",
            "113.- 10 x 2 = 20\n",
            "114.- 10 x 3 = 30\n",
            "115.- 10 x 4 = 40\n",
            "116.- 10 x 5 = 50\n",
            "117.- 10 x 6 = 60\n",
            "118.- 10 x 7 = 70\n",
            "119.- 10 x 8 = 80\n",
            "120.- 10 x 9 = 90\n",
            "121.- 10 x 10 = 100\n"
          ]
        }
      ]
    },
    {
      "cell_type": "markdown",
      "source": [
        "9. Elaborar programa que solicite al usuario un monto inicial, una tasa de interés compuesto y los periodos, el programa te devuelve el monto inicial, monto final y los intereses generados para cada periodo"
      ],
      "metadata": {
        "id": "hFu8zeuIj2r4"
      }
    },
    {
      "cell_type": "code",
      "source": [
        "#Interés compuesto: Cf= Ci(1+i)**n\n",
        "ci=float(input(\"¿Cuál es tu capita a invertir?: \"))\n",
        "i=float(input(\"¿Cuál es el interés deseado?: \"))\n",
        "n=int(input(\"¿A cuánto tiempo?: \"))\n",
        "for x in range(n):\n",
        "  cf=ci*(1+i)**(x+1)\n",
        "  print(f\"Una inversión de ${ci:.2f}, el rendimiento es de ${cf:.2f} en el periodo {x+1}\")\n",
        "\n",
        "\n"
      ],
      "metadata": {
        "id": "JtHejDsMMWV8",
        "colab": {
          "base_uri": "https://localhost:8080/"
        },
        "outputId": "0aaa31f8-55e4-402e-9c50-ecb12538a709"
      },
      "execution_count": 64,
      "outputs": [
        {
          "output_type": "stream",
          "name": "stdout",
          "text": [
            "¿Cuál es tu capita a invertir?: 1000\n",
            "¿Cuál es el interés deseado?: .1\n",
            "¿A cuánto tiempo?: 20\n",
            "Una inversión de $1000.00, el rendimiento es de $1100.00 en el periodo 1\n",
            "Una inversión de $1000.00, el rendimiento es de $1210.00 en el periodo 2\n",
            "Una inversión de $1000.00, el rendimiento es de $1331.00 en el periodo 3\n",
            "Una inversión de $1000.00, el rendimiento es de $1464.10 en el periodo 4\n",
            "Una inversión de $1000.00, el rendimiento es de $1610.51 en el periodo 5\n",
            "Una inversión de $1000.00, el rendimiento es de $1771.56 en el periodo 6\n",
            "Una inversión de $1000.00, el rendimiento es de $1948.72 en el periodo 7\n",
            "Una inversión de $1000.00, el rendimiento es de $2143.59 en el periodo 8\n",
            "Una inversión de $1000.00, el rendimiento es de $2357.95 en el periodo 9\n",
            "Una inversión de $1000.00, el rendimiento es de $2593.74 en el periodo 10\n",
            "Una inversión de $1000.00, el rendimiento es de $2853.12 en el periodo 11\n",
            "Una inversión de $1000.00, el rendimiento es de $3138.43 en el periodo 12\n",
            "Una inversión de $1000.00, el rendimiento es de $3452.27 en el periodo 13\n",
            "Una inversión de $1000.00, el rendimiento es de $3797.50 en el periodo 14\n",
            "Una inversión de $1000.00, el rendimiento es de $4177.25 en el periodo 15\n",
            "Una inversión de $1000.00, el rendimiento es de $4594.97 en el periodo 16\n",
            "Una inversión de $1000.00, el rendimiento es de $5054.47 en el periodo 17\n",
            "Una inversión de $1000.00, el rendimiento es de $5559.92 en el periodo 18\n",
            "Una inversión de $1000.00, el rendimiento es de $6115.91 en el periodo 19\n",
            "Una inversión de $1000.00, el rendimiento es de $6727.50 en el periodo 20\n"
          ]
        }
      ]
    },
    {
      "cell_type": "markdown",
      "source": [
        "CICLO WHILE\n",
        "1. Imprime del 0 al 10 con while y compara la diferencia entre while y for"
      ],
      "metadata": {
        "id": "AxZBUa6OkFRE"
      }
    },
    {
      "cell_type": "code",
      "source": [
        "i=0\n",
        "while 0<= i <=9:\n",
        "  i=i+1\n",
        "  print(i)\n"
      ],
      "metadata": {
        "colab": {
          "base_uri": "https://localhost:8080/"
        },
        "id": "hKsoJNxaO1kX",
        "outputId": "513dc1bd-48ab-4a1d-8fc1-a45d013c64fc"
      },
      "execution_count": 69,
      "outputs": [
        {
          "output_type": "stream",
          "name": "stdout",
          "text": [
            "1\n",
            "2\n",
            "3\n",
            "4\n",
            "5\n",
            "6\n",
            "7\n",
            "8\n",
            "9\n",
            "10\n"
          ]
        }
      ]
    },
    {
      "cell_type": "markdown",
      "source": [
        "2. Recibir un dato y elevarlo al cuadrado, repetirlo hasta que el usuario diga que ya no desea hacerlo."
      ],
      "metadata": {
        "id": "yBCZnr0SkM6C"
      }
    },
    {
      "cell_type": "code",
      "source": [],
      "metadata": {
        "id": "tFHcbY7jEgRo"
      },
      "execution_count": null,
      "outputs": []
    },
    {
      "cell_type": "code",
      "source": [
        "n=int(input(\"Escribe un número: \"))\n",
        "r=\"si\"\n",
        "while r==\"si\":\n",
        "  r=\"si\"\n",
        "  n=n**2\n",
        "  print(n)\n",
        "  r=input(\"¿Continuas? si/no \")\n",
        "print(\"Fin\")\n",
        "\n"
      ],
      "metadata": {
        "colab": {
          "base_uri": "https://localhost:8080/"
        },
        "id": "FnxNSPDSRwJc",
        "outputId": "edebe78b-110b-421f-e1ba-25e6cefe309d"
      },
      "execution_count": 21,
      "outputs": [
        {
          "output_type": "stream",
          "name": "stdout",
          "text": [
            "Escribe un número: 2\n",
            "4\n",
            "¿Continuas? si/no si\n",
            "16\n",
            "¿Continuas? si/no si\n",
            "256\n",
            "¿Continuas? si/no no\n",
            "Fin\n"
          ]
        }
      ]
    },
    {
      "cell_type": "markdown",
      "source": [
        "3. Utiliza el código de interés compuesto para hacer un programa que se mantenga realizando cálculos hasta que el usuario diga que no quiere calcular más"
      ],
      "metadata": {
        "id": "FwJCZHC9kT9U"
      }
    },
    {
      "cell_type": "code",
      "source": [
        "ci=float(input(\"¿Cuál es tu capital a invertir? \"))\n",
        "i=float(input(\"¿Cuál es el interés deseado?: \"))\n",
        "r=\"si\"\n",
        "x=0\n",
        "while r==\"si\":\n",
        "  x=x+1\n",
        "  cf=ci*(1+i)**x\n",
        "  print(f\"Una inversión de ${ci:.2f}, el rendimiento es de ${cf:.2f} en el periodo {x}\")\n",
        "  r=input(\"¿Continuas? si/no \")\n",
        "print(\"Fin\")\n",
        ""
      ],
      "metadata": {
        "colab": {
          "base_uri": "https://localhost:8080/"
        },
        "id": "7Sxz4QgzIeXr",
        "outputId": "a2955750-646d-475b-95c8-d91795065b37"
      },
      "execution_count": 40,
      "outputs": [
        {
          "output_type": "stream",
          "name": "stdout",
          "text": [
            "¿Cuál es tu capital a invertir? 1000\n",
            "¿Cuál es el interés deseado?: .1\n",
            "Una inversión de $1000.00, el rendimiento es de $1100.00 en el periodo 1\n",
            "¿Continuas? si/no si\n",
            "Una inversión de $1000.00, el rendimiento es de $1210.00 en el periodo 2\n",
            "¿Continuas? si/no si\n",
            "Una inversión de $1000.00, el rendimiento es de $1331.00 en el periodo 3\n",
            "¿Continuas? si/no si\n",
            "Una inversión de $1000.00, el rendimiento es de $1464.10 en el periodo 4\n",
            "¿Continuas? si/no no\n",
            "Fin\n"
          ]
        }
      ]
    },
    {
      "cell_type": "markdown",
      "source": [
        "4. Elaborar programa que reciba dos números y regresa la división entre ellos, es capaz de alertar sobre la división entre cero y si esto sucede volver a solicitar el denominador para poder realizar la división."
      ],
      "metadata": {
        "id": "EPtX01rTkdce"
      }
    },
    {
      "cell_type": "code",
      "source": [
        "r=\"si\"\n",
        "\n",
        "while r==\"si\":\n",
        "  n1=float(input(\"Escribe un número: \"))\n",
        "  n2=float(input(\"Escribe otro número: \"))\n",
        "  while n2==0:\n",
        "    print(\"Error\")\n",
        "    n2=float(input(\"Escribe otro denominador diferente de cero: \"))\n",
        "  n3=n1/n2\n",
        "  print(f\"La división de {n1} entre {n2} = {n3}\")\n",
        "  r=input(\"¿Continuas? si /no: \")"
      ],
      "metadata": {
        "colab": {
          "base_uri": "https://localhost:8080/"
        },
        "id": "XXbUat6qXHPE",
        "outputId": "62604dd5-86a6-4ed6-f07c-06de09a8e97a"
      },
      "execution_count": 50,
      "outputs": [
        {
          "name": "stdout",
          "output_type": "stream",
          "text": [
            "Escribe un número: 10\n",
            "Escribe otro número: 5\n",
            "La división de 0.4 entre 5.0 = 2.0\n",
            "¿Continuas? si /no: si\n",
            "Escribe un número: 40\n",
            "Escribe otro número: 3\n",
            "La división de 4.444444444444445 entre 3.0 = 13.333333333333334\n",
            "¿Continuas? si /no: no\n"
          ]
        }
      ]
    },
    {
      "cell_type": "markdown",
      "source": [
        "5. Elabora el programa anterior para que se repita hasta que el usuario diga que no"
      ],
      "metadata": {
        "id": "-osD18VFknPt"
      }
    },
    {
      "cell_type": "code",
      "source": [
        "r=\"si\"\n",
        "\n",
        "while r==\"si\":\n",
        "  n1=float(input(\"Escribe un número: \"))\n",
        "  n2=float(input(\"Escribe otro número: \"))\n",
        "  while n2==0:\n",
        "    n2=float(input(\"Escribe otro denominador diferente de cero: \"))\n",
        "  print(f\"La división de {n1} entre {n2} = {n1/n2}\")\n",
        "  r=input(\"¿Continuas? si /no: \")\n",
        "\n",
        "\n",
        "\n",
        "\n"
      ],
      "metadata": {
        "colab": {
          "base_uri": "https://localhost:8080/"
        },
        "id": "D70p19etIfBM",
        "outputId": "bd2be3b9-6969-42ce-f973-d624e46f8aa9"
      },
      "execution_count": 46,
      "outputs": [
        {
          "name": "stdout",
          "output_type": "stream",
          "text": [
            "Escribe un número: 100\n",
            "Escribe otro número: 5\n",
            "La división de 100.0 entre 5.0 = 20.0\n",
            "¿Continuas? si /no: si\n",
            "Escribe un número: 40\n",
            "Escribe otro número: 2\n",
            "La división de 40.0 entre 2.0 = 20.0\n",
            "¿Continuas? si /no: si\n",
            "Escribe un número: 9\n",
            "Escribe otro número: 0\n",
            "Escribe otro denominador diferente de cero: 5\n",
            "La división de 9.0 entre 5.0 = 1.8\n",
            "¿Continuas? si /no: si\n",
            "Escribe un número: 70\n",
            "Escribe otro número: 0\n",
            "Escribe otro denominador diferente de cero: 10\n",
            "La división de 70.0 entre 10.0 = 7.0\n",
            "¿Continuas? si /no: no\n"
          ]
        }
      ]
    },
    {
      "cell_type": "markdown",
      "source": [
        "6. Programa que captura los precios de venta de n productos y realiza la sumatoria total."
      ],
      "metadata": {
        "id": "DJOWpJyxkrqs"
      }
    },
    {
      "cell_type": "code",
      "source": [
        "n=1\n",
        "r=\"si\"\n",
        "p1=float(input(\"Escribe el precio de venta: \"))\n",
        "while r==\"si\":\n",
        "  p2=float(input(\"Escribe el precio de venta: \"))\n",
        "  p1=p1+p2\n",
        "  n=n+1\n",
        "  if n >= 5:\n",
        "    print(f\"La suma de números es: {p1}\")\n",
        "    break\n",
        "\n"
      ],
      "metadata": {
        "colab": {
          "base_uri": "https://localhost:8080/"
        },
        "id": "Lk5QRsaIIf3o",
        "outputId": "6ffd62d6-3b35-4ba9-c9ee-98937cf961bb"
      },
      "execution_count": 62,
      "outputs": [
        {
          "output_type": "stream",
          "name": "stdout",
          "text": [
            "Escribe el precio de venta: 50\n",
            "Escribe el precio de venta: 2\n",
            "Escribe el precio de venta: 4.5\n",
            "Escribe el precio de venta: 6.5\n",
            "Escribe el precio de venta: 8\n",
            "La suma de números es: 71.0\n"
          ]
        }
      ]
    },
    {
      "cell_type": "markdown",
      "source": [
        "7. El mismo que el anterior pero calcula el promedio de venta"
      ],
      "metadata": {
        "id": "PRLM4h0EkyIl"
      }
    },
    {
      "cell_type": "code",
      "source": [
        "n=1\n",
        "r=\"si\"\n",
        "p1=float(input(\"Escribe el precio de venta: \"))\n",
        "while r==\"si\":\n",
        "  p2=float(input(\"Escribe el precio de venta: \"))\n",
        "  p1=p1+p2\n",
        "  n=n+1\n",
        "  if n >= 5:\n",
        "    print(f\"La suma de números es: {p1} y su promedio es {p1/n}. Número de datos: {n}\")\n",
        "    break"
      ],
      "metadata": {
        "colab": {
          "base_uri": "https://localhost:8080/"
        },
        "id": "T1GbaIefIgXs",
        "outputId": "793cb34b-f9bc-475e-94e1-535d84705fa3"
      },
      "execution_count": 64,
      "outputs": [
        {
          "output_type": "stream",
          "name": "stdout",
          "text": [
            "Escribe el precio de venta: 50\n",
            "Escribe el precio de venta: 2\n",
            "Escribe el precio de venta: 4.5\n",
            "Escribe el precio de venta: 6.5\n",
            "Escribe el precio de venta: 8\n",
            "La suma de números es: 71.0 y su promedio es 14.2. Número de datos: 5\n"
          ]
        }
      ]
    },
    {
      "cell_type": "markdown",
      "source": [
        "8. El mismo que el anterior pero si la venta supera 10,000 aplicar 10% de descuento total."
      ],
      "metadata": {
        "id": "WO7V1NTKk2P4"
      }
    },
    {
      "cell_type": "code",
      "source": [
        "\n",
        "r=\"si\"\n",
        "\n",
        "while r==\"si\":\n",
        "  p1=float(input(\"Escribe el precio de venta: \"))\n",
        "  print(f\"La venta es de  ${p1}\")\n",
        "\n",
        "  if p1>10000:\n",
        "    p2=p1*(10/100)\n",
        "    print(f\"La venta tiene un descuento del 10% equivalente a ${p2:,.2f}, por tanto pagará ${p1-p2:,.2f}\")\n",
        "  r=input(\"¿Deseas agregar otra venta?: \")\n"
      ],
      "metadata": {
        "colab": {
          "base_uri": "https://localhost:8080/"
        },
        "id": "ZZ6i1GFeIidy",
        "outputId": "096d2c37-fe5b-4e48-ea14-fd2200de594e"
      },
      "execution_count": 74,
      "outputs": [
        {
          "name": "stdout",
          "output_type": "stream",
          "text": [
            "Escribe el precio de venta: 3000\n",
            "La venta es de  $3000.0\n",
            "¿Deseas agregar otra venta?: si\n",
            "Escribe el precio de venta: 1000\n",
            "La venta es de  $1000.0\n",
            "¿Deseas agregar otra venta?: si\n",
            "Escribe el precio de venta: 5000\n",
            "La venta es de  $5000.0\n",
            "¿Deseas agregar otra venta?: si\n",
            "Escribe el precio de venta: 46589\n",
            "La venta es de  $46589.0\n",
            "La venta tiene un descuento del 10% equivalente a $4,658.90, por tanto pagará $41,930.10\n",
            "¿Deseas agregar otra venta?: no\n"
          ]
        }
      ]
    },
    {
      "cell_type": "markdown",
      "source": [
        "Tema 5: Listas"
      ],
      "metadata": {
        "id": "Rmelru7Kk8yl"
      }
    },
    {
      "cell_type": "markdown",
      "source": [
        "1. Crar una lista con los números del 1 al 100"
      ],
      "metadata": {
        "id": "fVDxboTNlDit"
      }
    },
    {
      "cell_type": "code",
      "source": [],
      "metadata": {
        "id": "aVq7UtS_kR86"
      },
      "execution_count": null,
      "outputs": []
    },
    {
      "cell_type": "markdown",
      "source": [
        "2. Crear una lista donde el usuario indique su tamaño e ingrese los datos"
      ],
      "metadata": {
        "id": "CxKfJmgflI2a"
      }
    },
    {
      "cell_type": "markdown",
      "source": [
        "3. Crear una lista donde cada que el usuario ingresa un dato se le pregunta si desea agregar uno más"
      ],
      "metadata": {
        "id": "BqAaF1fplN6l"
      }
    },
    {
      "cell_type": "markdown",
      "source": [
        "4. Recibir n datos en una lista y realizar su sumatoria con sum."
      ],
      "metadata": {
        "id": "7P1REKBYlUZs"
      }
    },
    {
      "cell_type": "markdown",
      "source": [
        "5. Calcular el promedio de una lsita recibida por el usuario."
      ],
      "metadata": {
        "id": "K1GyuKXqlYWz"
      }
    },
    {
      "cell_type": "markdown",
      "source": [
        "6. Calcular la multiplicación de cada uno de los elementos de la lista."
      ],
      "metadata": {
        "id": "XIBpVmJclco3"
      }
    },
    {
      "cell_type": "markdown",
      "source": [
        "7. Generar dos listas, una de nombres y otra de edades. Imprimir en pantalla un saludo para cada uno de los nombres mencionando su edad."
      ],
      "metadata": {
        "id": "tGz-bcfXlguz"
      }
    },
    {
      "cell_type": "markdown",
      "source": [
        "8. Crear un programa en el que el usuario pueda introducir una valor a buscar dentro de una lista creada previamente y el programa le indique cuantas veces se repite dicho elemento dentro de la lista, en caso de si encontrarse dentro de la lisa."
      ],
      "metadata": {
        "id": "i3BU0c_Plo3i"
      }
    },
    {
      "cell_type": "markdown",
      "source": [
        "9. Crear un programa en el cual se tengan n productos, n lo define el usuario, sus precios y respectivas ventas por productos. Imprimir un reporte en donde cada renglón contenga el nombre del producto, el precio, el volumen de ventas y el ingreso."
      ],
      "metadata": {
        "id": "oUcN2pvip6uP"
      }
    },
    {
      "cell_type": "markdown",
      "source": [
        "10. Crear un programa que a partir de una lista genere una nueva lista sin elementos repetidos."
      ],
      "metadata": {
        "id": "-WEnbSzfqLHY"
      }
    },
    {
      "cell_type": "markdown",
      "source": [
        "Tema 6: Creando funciones"
      ],
      "metadata": {
        "id": "4_1EJmqmqT-l"
      }
    },
    {
      "cell_type": "markdown",
      "source": [
        "1. Crear una función que siplemente imprime en pantalla \"ERROR!, fíjate en lo que haces carnal...\""
      ],
      "metadata": {
        "id": "_14OkQ6fqYAA"
      }
    },
    {
      "cell_type": "markdown",
      "source": [
        "2. Crea una función que solicita dos números realiza las operaciones básicas entre ellos."
      ],
      "metadata": {
        "id": "9Ck7Wo1tqgrO"
      }
    },
    {
      "cell_type": "markdown",
      "source": [
        "3. Crea una función que solicita nombre de un producto y precio sin IVA, la función imprime en pantalla elnombre del producto con el precio con IVA."
      ],
      "metadata": {
        "id": "dATFhZHZqohO"
      }
    },
    {
      "cell_type": "markdown",
      "source": [
        "4. Crea una función para metrizada que recibe un número y determina si es par o impar imprimiendo en pantalla el resultado."
      ],
      "metadata": {
        "id": "Jb1d_fpevRWS"
      }
    },
    {
      "cell_type": "markdown",
      "source": [
        "5. Crea una función parametrizada que recibe 3 números e imprime en pantalla los números acomodarlos en orden descendente con ifs"
      ],
      "metadata": {
        "id": "-hI1RSSEvaCj"
      }
    },
    {
      "cell_type": "markdown",
      "source": [
        "6. Crea una función que pregunte al usuario si desea continuar y devuelve el valor de la respuesta."
      ],
      "metadata": {
        "id": "b_TbN_zxvnWX"
      }
    },
    {
      "cell_type": "markdown",
      "source": [
        "7. Crea una función que solicite n números y devuelve el valor de la sumatoria."
      ],
      "metadata": {
        "id": "JEvGinKbvwbB"
      }
    },
    {
      "cell_type": "markdown",
      "source": [
        "8. Crea una función que recibe por parámetro el tamaño de una lista, la función solicita los datos para rellenar la lista y la devuelve."
      ],
      "metadata": {
        "id": "FOP1n19Kv1tv"
      }
    },
    {
      "cell_type": "markdown",
      "source": [
        "9. Crea una función que recibe como parámetro una lista, la función calcula la sumatoria y promedio y devuelve ambos valores."
      ],
      "metadata": {
        "id": "G4YXbCNEv-um"
      }
    }
  ]
}